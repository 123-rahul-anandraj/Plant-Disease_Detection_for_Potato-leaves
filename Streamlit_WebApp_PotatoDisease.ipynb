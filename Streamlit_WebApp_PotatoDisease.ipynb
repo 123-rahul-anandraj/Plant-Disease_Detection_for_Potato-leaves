{
  "nbformat": 4,
  "nbformat_minor": 0,
  "metadata": {
    "colab": {
      "provenance": []
    },
    "kernelspec": {
      "name": "python3",
      "display_name": "Python 3"
    },
    "language_info": {
      "name": "python"
    }
  },
  "cells": [
    {
      "cell_type": "code",
      "source": [
        "!pip install streamlit -q"
      ],
      "metadata": {
        "colab": {
          "base_uri": "https://localhost:8080/"
        },
        "id": "nys5BZ4tucan",
        "outputId": "115f4eec-f65f-44c2-97e6-8872270b71a7"
      },
      "execution_count": null,
      "outputs": [
        {
          "output_type": "stream",
          "name": "stdout",
          "text": [
            "\u001b[K     |████████████████████████████████| 9.2 MB 8.1 MB/s \n",
            "\u001b[K     |████████████████████████████████| 4.7 MB 51.2 MB/s \n",
            "\u001b[K     |████████████████████████████████| 78 kB 6.5 MB/s \n",
            "\u001b[K     |████████████████████████████████| 164 kB 47.2 MB/s \n",
            "\u001b[K     |████████████████████████████████| 237 kB 53.1 MB/s \n",
            "\u001b[K     |████████████████████████████████| 182 kB 45.7 MB/s \n",
            "\u001b[K     |████████████████████████████████| 63 kB 1.5 MB/s \n",
            "\u001b[K     |████████████████████████████████| 51 kB 6.0 MB/s \n",
            "\u001b[?25h  Building wheel for validators (setup.py) ... \u001b[?25l\u001b[?25hdone\n"
          ]
        }
      ]
    },
    {
      "cell_type": "code",
      "source": [
        "%%writefile app.py\n",
        "import streamlit as st\n",
        "\n",
        "import pandas as pd\n",
        "\n",
        "#Setting Title of App\n",
        "st.title(\"Plant Disease Prediction\")\n",
        "st.markdown(\"Upload an image of the plant leaf\")\n",
        "\n",
        "#Uploading the plant image\n",
        "plant_image = st.file_uploader(\"Choose an image...\", type=\"jpg\")\n",
        "submit = st.button('Predict')\n",
        "#On predict button click\n",
        "\n",
        "#ngrok"
      ],
      "metadata": {
        "colab": {
          "base_uri": "https://localhost:8080/"
        },
        "id": "C4nWOyVwq4vQ",
        "outputId": "71b2f4dd-58aa-4f80-d739-7a3b197b8cb0"
      },
      "execution_count": null,
      "outputs": [
        {
          "output_type": "stream",
          "name": "stdout",
          "text": [
            "Writing app.py\n"
          ]
        }
      ]
    },
    {
      "cell_type": "code",
      "source": [
        "import numpy as np\n",
        "import os\n",
        "from tensorflow.keras import models, layers\n",
        "from tensorflow.keras.preprocessing.image import ImageDataGenerator\n",
        "from tensorflow.keras.preprocessing import image\n",
        "from tensorflow.keras.preprocessing.image import img_to_array\n",
        "import tensorflow as tf\n",
        "import matplotlib.pyplot as plt\n",
        "from tensorflow.keras import backend as K\n",
        "import cv2\n",
        "from PIL import Image"
      ],
      "metadata": {
        "id": "zi19YJocL2s1"
      },
      "execution_count": null,
      "outputs": []
    },
    {
      "cell_type": "code",
      "source": [
        "INIT_LR = 1e-3\n",
        "BATCH_SIZE = 32\n",
        "EPOCHS = 50\n",
        "IMAGE_SIZE = 256\n",
        "default_image_size = tuple((IMAGE_SIZE, IMAGE_SIZE))\n",
        "image_size = 0\n",
        "data_dir = \"/content/drive/MyDrive/Potato_Leaves_Dataset\"\n",
        "# /content/drive/MyDrive/Potato_Disease_Predict.ipynb\n",
        "CHANNELS=3\n",
        "AUTOTUNE = tf.data.AUTOTUNE"
      ],
      "metadata": {
        "id": "KHTEjn6FLwpZ"
      },
      "execution_count": null,
      "outputs": []
    },
    {
      "cell_type": "code",
      "source": [
        "def get_dataset_partitions_tf(ds, train_split=0.8, val_split=0.1, test_split=0.1, shuffle=True, shuffle_size=10000):\n",
        "    assert (train_split + test_split + val_split) == 1\n",
        "\n",
        "    ds_size = ds.cardinality().numpy()\n",
        "\n",
        "    if shuffle:\n",
        "        ds = ds.shuffle(shuffle_size, seed=12)\n",
        "\n",
        "    train_size = int(train_split * ds_size)\n",
        "    val_size = int(val_split * ds_size)\n",
        "\n",
        "    train_ds = ds.take(train_size)\n",
        "    val_ds = ds.skip(train_size).take(val_size)\n",
        "    test_ds = ds.skip(train_size).skip(val_size)\n",
        "\n",
        "    return train_ds, val_ds, test_ds"
      ],
      "metadata": {
        "id": "Z0eoGxuwL5Jj"
      },
      "execution_count": null,
      "outputs": []
    },
    {
      "cell_type": "code",
      "source": [
        "dataset = tf.keras.preprocessing.image_dataset_from_directory(\n",
        "  data_dir,\n",
        "  seed=123,\n",
        "  image_size=default_image_size,\n",
        "  batch_size=BATCH_SIZE\n",
        ")\n",
        "train_ds, val_ds, test_ds = get_dataset_partitions_tf(dataset)"
      ],
      "metadata": {
        "colab": {
          "base_uri": "https://localhost:8080/"
        },
        "id": "6uEjlq3IL93Z",
        "outputId": "b85f4ca3-6252-4987-fdea-f2892cc49608"
      },
      "execution_count": null,
      "outputs": [
        {
          "output_type": "stream",
          "name": "stdout",
          "text": [
            "Found 2152 files belonging to 3 classes.\n"
          ]
        }
      ]
    },
    {
      "cell_type": "code",
      "source": [],
      "metadata": {
        "id": "cqj6Jl8mMCkr"
      },
      "execution_count": null,
      "outputs": []
    },
    {
      "cell_type": "code",
      "source": [
        "%%writefile /content/drive/MyDrive/Potato_Disease_Codes/New_app.py\n",
        "#/content/drive/MyDrive/Potato_Disease_Codes/New_app.py\n",
        "import numpy as np\n",
        "import os\n",
        "from tensorflow.keras import models, layers\n",
        "from tensorflow.keras.preprocessing.image import ImageDataGenerator\n",
        "from tensorflow.keras.preprocessing import image\n",
        "from tensorflow.keras.preprocessing.image import img_to_array\n",
        "import tensorflow as tf\n",
        "import matplotlib.pyplot as plt\n",
        "from tensorflow.keras import backend as K\n",
        "import cv2\n",
        "from PIL import Image\n",
        "\n",
        "INIT_LR = 1e-3\n",
        "BATCH_SIZE = 32\n",
        "EPOCHS = 50\n",
        "IMAGE_SIZE = 256\n",
        "default_image_size = tuple((IMAGE_SIZE, IMAGE_SIZE))\n",
        "image_size = 0\n",
        "data_dir = \"/content/drive/MyDrive/Potato_Leaves_Dataset\"\n",
        "# /content/drive/MyDrive/Potato_Disease_Predict.ipynb\n",
        "CHANNELS=3\n",
        "AUTOTUNE = tf.data.AUTOTUNE\n",
        "\n",
        "def get_dataset_partitions_tf(ds, train_split=0.8, val_split=0.1, test_split=0.1, shuffle=True, shuffle_size=10000):\n",
        "    assert (train_split + test_split + val_split) == 1\n",
        "\n",
        "    ds_size = ds.cardinality().numpy()\n",
        "\n",
        "    if shuffle:\n",
        "        ds = ds.shuffle(shuffle_size, seed=12)\n",
        "\n",
        "    train_size = int(train_split * ds_size)\n",
        "    val_size = int(val_split * ds_size)\n",
        "\n",
        "    train_ds = ds.take(train_size)\n",
        "    val_ds = ds.skip(train_size).take(val_size)\n",
        "    test_ds = ds.skip(train_size).skip(val_size)\n",
        "\n",
        "    return train_ds, val_ds, test_ds\n",
        "\n",
        "dataset = tf.keras.preprocessing.image_dataset_from_directory(\n",
        "  data_dir,\n",
        "  seed=123,\n",
        "  image_size=default_image_size,\n",
        "  batch_size=BATCH_SIZE\n",
        ")\n",
        "train_ds, val_ds, test_ds = get_dataset_partitions_tf(dataset)\n",
        "#######################################################################################\n",
        "\n",
        "import streamlit as st\n",
        "file_dir='/content/drive/MyDrive/TestImage_Potatoes'\n",
        "#Read and display the banner\n",
        "img_1_path= '/content/drive/MyDrive/TestImage_Potatoes/test_img1.JPG'\n",
        "img_2_path= '/content/drive/MyDrive/TestImage_Potatoes/test_img2.JPG'\n",
        "img_3_path= '/content/drive/MyDrive/TestImage_Potatoes/test_img3.JPG'\n",
        "banner_path= '/content/drive/MyDrive/Potato_Disease_Codes/Potato-Disease-Logo-1.png'\n",
        "st.sidebar.image(banner_path,use_column_width=True)\n",
        "\n",
        "#App Title\n",
        "st.title(\"Potato Plant Disease Prediction - WebApp\")\n",
        "\n",
        "#App description\n",
        "st.header(\"The app predicts diseases in Potato plants.\")\n",
        "st.subheader(\"The model was trained with the [potato leaf disease dataset on Kaggle](https://www.kaggle.com/arjuntejaswi/plant-village). \")\n",
        "\n",
        "st.markdown('***')\n",
        "\n",
        "#Load the saved model\n",
        "model_saved = tf.keras.models.load_model(\"/content/drive/MyDrive/Potato_Disease_Codes/potato_model.h5\")\n",
        "class_names = ['Potato___Early_blight', 'Potato___Late_blight', 'Potato___healthy']\n",
        "\n",
        "\n",
        "#Set the selectbox for demo images\n",
        "st.write('**Select an image for a DEMO**')\n",
        "menu = ['Select an Image','Image 1', 'Image 2', 'Image 3']\n",
        "choice = st.selectbox('Select an image', menu)\n",
        "\n",
        "\n",
        "#Set the box for the user to upload an image\n",
        "st.write(\"**Upload your Image**\")\n",
        "uploaded_image = st.file_uploader(\"Upload your image in JPG or PNG format\", type=[\"jpg\", \"png\"])\n",
        "\n",
        "#Set red flag if no image is selected/uploaded\n",
        "if uploaded_image is None and choice=='Select an Image':\n",
        "    st.sidebar.error(\"**STATUS:** IMAGE NOT UPLOADED\")\n",
        "    st.sidebar.warning(\"**Please Upload or Select an Image**\")\n",
        "\n",
        "def deploy(img_path,demo=True):\n",
        "  st.sidebar.success(\"**STATUS**: Image uploaded successfully!\")\n",
        "  st.sidebar.image(img_path, width=301, channels='BGR')\n",
        "\n",
        "  img_bgr = cv2.imread(filename=img_path)\n",
        "  img_rgb = cv2.cvtColor(img_bgr, cv2.COLOR_BGR2RGB)\n",
        "  img_tensor = tf.convert_to_tensor(img_rgb, dtype=tf.float32)\n",
        "  img_resized = tf.image.resize_with_pad(img_tensor, 256, 256)\n",
        "  img_final = tf.expand_dims(img_resized, 0)\n",
        "  st.image(img_path)\n",
        "  predictions = model_saved.predict(img_final)\n",
        "  st.write(\"Predictions:\",predictions)\n",
        "  pred_class = class_names[np.argmax(predictions[0])]\n",
        "  st.subheader(f\"Predicted Potato Class: {pred_class}\")\n",
        "\n",
        "  st.sidebar.info(f\"**{pred_class}**\")\n",
        "\n",
        "#Deploy the model if the user uploads an image\n",
        "if uploaded_image is not None:\n",
        "    #Close the demo\n",
        "    choice='Select an Image'\n",
        "    #Deploy the model with the uploaded image\n",
        "    #Saving upload\n",
        "    with open(os.path.join(file_dir,uploaded_image.name),\"wb\") as f:\n",
        "      f.write((uploaded_image).getbuffer())\n",
        "    image_dir=file_dir+'/'+uploaded_image.name\n",
        "    deploy(image_dir, demo=False)\n",
        "    del uploaded_image\n",
        "\n",
        "#Deploy the model if the user selects Image 1\n",
        "if choice== 'Image 1':\n",
        "    deploy(img_1_path)\n",
        "\n",
        "#Deploy the model if the user selects Image 2\n",
        "if choice== 'Image 2':\n",
        "    deploy(img_2_path)\n",
        "\n",
        "#Deploy the model if the user selects Image 3\n",
        "if choice== 'Image 3':\n",
        "    deploy(img_3_path)"
      ],
      "metadata": {
        "colab": {
          "base_uri": "https://localhost:8080/"
        },
        "id": "7J5wIhej1Soa",
        "outputId": "1b631c62-998f-4b0f-8045-14bb4d39743b"
      },
      "execution_count": null,
      "outputs": [
        {
          "output_type": "stream",
          "name": "stdout",
          "text": [
            "Overwriting /content/drive/MyDrive/Potato_Disease_Codes/New_app.py\n"
          ]
        }
      ]
    },
    {
      "cell_type": "code",
      "source": [
        "!streamlit run /content/drive/MyDrive/Potato_Disease_Codes/New_app.py & npx localtunnel --port 8501"
      ],
      "metadata": {
        "colab": {
          "base_uri": "https://localhost:8080/"
        },
        "id": "iBPqQnQVrTdr",
        "outputId": "ee97cf9b-2e09-4042-c060-7dad720575e2"
      },
      "execution_count": null,
      "outputs": [
        {
          "output_type": "stream",
          "name": "stdout",
          "text": [
            "2022-10-10 04:45:01.535 INFO    numexpr.utils: NumExpr defaulting to 2 threads.\n",
            "[##................] | loadDep:strip-ansi: sill resolveWithNewModule wrap-ansi@\u001b[0m\u001b[K\n",
            "Collecting usage statistics. To deactivate, set browser.gatherUsageStats to False.\n",
            "\u001b[0m\n",
            "\u001b[0m\n",
            "\u001b[34m\u001b[1m  You can now view your Streamlit app in your browser.\u001b[0m\n",
            "\u001b[0m\n",
            "\u001b[34m  Network URL: \u001b[0m\u001b[1mhttp://172.28.0.2:8501\u001b[0m\n",
            "\u001b[34m  External URL: \u001b[0m\u001b[1mhttp://35.185.247.211:8501\u001b[0m\n",
            "\u001b[0m\n",
            "\u001b[K\u001b[?25hnpx: installed 22 in 7.227s\n",
            "your url is: https://silent-lies-pull-35-185-247-211.loca.lt\n",
            "Found 2152 files belonging to 3 classes.\n",
            "2022-10-10 04:45:35.394752: E tensorflow/stream_executor/cuda/cuda_driver.cc:271] failed call to cuInit: CUDA_ERROR_NO_DEVICE: no CUDA-capable device is detected\n",
            "Found 2152 files belonging to 3 classes.\n",
            "Found 2152 files belonging to 3 classes.\n",
            "Found 2152 files belonging to 3 classes.\n",
            "Found 2152 files belonging to 3 classes.\n",
            "Found 2152 files belonging to 3 classes.\n",
            "Found 2152 files belonging to 3 classes.\n",
            "Found 2152 files belonging to 3 classes.\n",
            "Found 2152 files belonging to 3 classes.\n",
            "2022-10-10 05:20:35.035 5 out of the last 5 calls to <function Model.make_predict_function.<locals>.predict_function at 0x7fb712716ef0> triggered tf.function retracing. Tracing is expensive and the excessive number of tracings could be due to (1) creating @tf.function repeatedly in a loop, (2) passing tensors with different shapes, (3) passing Python objects instead of tensors. For (1), please define your @tf.function outside of the loop. For (2), @tf.function has experimental_relax_shapes=True option that relaxes argument shapes that can avoid unnecessary retracing. For (3), please refer to https://www.tensorflow.org/guide/function#controlling_retracing and https://www.tensorflow.org/api_docs/python/tf/function for  more details.\n"
          ]
        }
      ]
    }
  ]
}